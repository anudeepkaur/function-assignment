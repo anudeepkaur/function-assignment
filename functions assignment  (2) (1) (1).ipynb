{
 "cells": [
  {
   "cell_type": "code",
   "execution_count": 2,
   "id": "c7977c49-7294-488d-86fa-113684eb6fb7",
   "metadata": {},
   "outputs": [],
   "source": [
    "# question 1. What is the difference between a function and a method in Python?"
   ]
  },
  {
   "cell_type": "code",
   "execution_count": null,
   "id": "a4134cf1-4c0f-4ca2-83f2-4893d6d169cf",
   "metadata": {},
   "outputs": [],
   "source": [
    "# methods:\n",
    "# both functions and method are used to perform a specific task,but  they  have some key differences ,primarily based on their context and usage.\n",
    "\n",
    "# A Function is a block of code that performs a specific task and can be called independently . Functions can be defined at te module leve or inside another function , and they do not depend on any object . Fuctions can take arguments andreturn val\n"
   ]
  },
  {
   "cell_type": "code",
   "execution_count": 3,
   "id": "282349b9-1f22-44ee-aa56-5e345a9dfcdd",
   "metadata": {
    "tags": []
   },
   "outputs": [
    {
     "name": "stdout",
     "output_type": "stream",
     "text": [
      "Hello, Alice!\n"
     ]
    }
   ],
   "source": [
    "\n",
    "#example:\n",
    "def greet(name):\n",
    "        return f\"Hello, {name}!\"\n",
    "print(greet(\"Alice\"))\n"
   ]
  },
  {
   "cell_type": "code",
   "execution_count": 7,
   "id": "c2ef6dfd-4939-48f8-9c8f-f52d1bae24a9",
   "metadata": {},
   "outputs": [],
   "source": [
    "# methods:\n",
    "\n",
    "# A method is similar to a function , but it is associated with an object and is defined within a class . methods are called on objects (instances of classes) and can access and modify the object's attributes. Methods are defined like functions but are part of the class's namespace.\n",
    "#There are two main types of methods:\n",
    "\n",
    "\n",
    "# 1 Instance methods : the most common type , which opertaes on instances of the class and can access and modify the instance's attributes.\n",
    "\n",
    "# 2 Class Methods : operate on the class itself rather than instances. They are defined using the @classmetod decorator and take the clas (cls) as their first argument.\n",
    "\n",
    "# 3 Static method: do not modify class  state or instance state. they are defined using the @static method decorator and do not take self or  cls as their first argument."
   ]
  },
  {
   "cell_type": "code",
   "execution_count": 52,
   "id": "e55a4691-8977-47a8-a573-a1edabf8effd",
   "metadata": {},
   "outputs": [],
   "source": [
    "# Example:-\n",
    "class Person:\n",
    "    def __init__(self, name):\n",
    "        self.name = name\n",
    "    def greet(self):\n",
    "        return f\"Hello, {self.name}!\""
   ]
  },
  {
   "cell_type": "code",
   "execution_count": 53,
   "id": "d12fb31a-899c-4ce1-b289-52cd0700d0b8",
   "metadata": {},
   "outputs": [
    {
     "name": "stdout",
     "output_type": "stream",
     "text": [
      "Hello, bela!\n"
     ]
    }
   ],
   "source": [
    "# creating an instance of the person class \n",
    "person = Person (\"bela\")\n",
    "print(person.greet())"
   ]
  },
  {
   "cell_type": "code",
   "execution_count": null,
   "id": "31ce1fdc-d8cb-47a1-9b8a-244e33e5820b",
   "metadata": {},
   "outputs": [],
   "source": [
    "# question 2  Explain the concept of function arguments and parameters in Python.\n",
    "\n",
    "# function arguments and parameters are related concepts that play crucial role in ow functions recieve and process data .\n",
    "\n",
    "#1. Argument: Arguments are the actual vlues passed to the function when it is called. These values are assigned to the corresponding parameters in the function definiton.\n",
    "\n",
    "# 2 parameter: Parameters are the variables listed inside the paarentheses in the function definition. They act as placeholders for the values that will be passed to te function when it is called. Parameters are used to define what kind of data the function expects to recieve.\n",
    "\n",
    "# types of parameters / Arguments:\n",
    "\n",
    "#1. positional arguments : Arguments are assigned to parameters in the order they are provided.\n",
    "#2. keyword  arguments : arguments are passed by explicity stating the parameter name and assigning a value , regardless of their position.\n",
    " \n",
    "#3 default arguments : Parameters can have default values, which are  used if no corresponding argument is provided during te function call.\n",
    "\n",
    "#4 variable-length arguments: Sometimes, the number of arguments a function can accept is not known in advance. Python provides two special symbols for this :\n",
    "\n",
    "#*args: A tuple that captures additional positional arguments.\n",
    "#** kwargs: A dictionary that captures  additional keyword arguments.\n",
    "\n",
    "\n",
    "\n"
   ]
  },
  {
   "cell_type": "code",
   "execution_count": 35,
   "id": "f7a152b0-7d9a-4325-839b-d57679248b1e",
   "metadata": {},
   "outputs": [
    {
     "name": "stdout",
     "output_type": "stream",
     "text": [
      "8\n"
     ]
    }
   ],
   "source": [
    "#positional arguments example\n",
    "def add(a,b):\n",
    "    return a+b\n",
    "result = add(3,5)\n",
    "print(result)"
   ]
  },
  {
   "cell_type": "code",
   "execution_count": 36,
   "id": "54cad9fa-ac2e-4741-82d0-353937755216",
   "metadata": {},
   "outputs": [],
   "source": [
    "# keyword arguments example:\n",
    "def greet(name,greeting):\n",
    "    return f\"{greeting},{name}!\""
   ]
  },
  {
   "cell_type": "code",
   "execution_count": 37,
   "id": "a6e97eae-e1a4-48d4-87c4-bcd984c04577",
   "metadata": {},
   "outputs": [
    {
     "name": "stdout",
     "output_type": "stream",
     "text": [
      "Hello,Alice!\n"
     ]
    }
   ],
   "source": [
    "#calling the function with keyword arguments\n",
    "message = greet(name=\"Alice\",greeting=\"Hello\")\n",
    "print(message)"
   ]
  },
  {
   "cell_type": "code",
   "execution_count": 38,
   "id": "3b2608ff-f200-4f53-995a-c58a776635ed",
   "metadata": {},
   "outputs": [],
   "source": [
    "# default arguments example:\n",
    "def greet(name, greeting=\"Hello\"):\n",
    "    return f\"{greeting}, {name}!\"\n",
    "          \n"
   ]
  },
  {
   "cell_type": "code",
   "execution_count": 39,
   "id": "a313af17-d726-4572-815f-dcb91251162c",
   "metadata": {},
   "outputs": [
    {
     "name": "stdout",
     "output_type": "stream",
     "text": [
      "Hello, Bob!\n"
     ]
    }
   ],
   "source": [
    "# Using te default argument for greeting\n",
    "message = greet(\"Bob\")\n",
    "print(message)"
   ]
  },
  {
   "cell_type": "code",
   "execution_count": 40,
   "id": "bdb70c0d-b371-44a4-a75a-3955c5e7f86a",
   "metadata": {},
   "outputs": [
    {
     "name": "stdout",
     "output_type": "stream",
     "text": [
      "Hi, bob!\n"
     ]
    }
   ],
   "source": [
    "# overriding the default argument\n",
    "message= greet(\"bob\",\"Hi\")\n",
    "print(message)"
   ]
  },
  {
   "cell_type": "code",
   "execution_count": 5,
   "id": "7c2db0ec-d3a0-44cc-8f57-67f3704f8d99",
   "metadata": {},
   "outputs": [
    {
     "name": "stdout",
     "output_type": "stream",
     "text": [
      "1\n",
      "2\n",
      "3\n",
      "4\n"
     ]
    }
   ],
   "source": [
    "# * args and ** kwargs:\n",
    "def print_numbers(*args):\n",
    "    for number in args:\n",
    "        print(number)\n",
    "print_numbers(1,2,3,4)"
   ]
  },
  {
   "cell_type": "code",
   "execution_count": 56,
   "id": "bae416d7-bd19-498f-af5a-4d385af0ba46",
   "metadata": {},
   "outputs": [],
   "source": [
    "def print_details(**kwargs):\n",
    "    for key, value in kwargs.items():\n",
    "        print(f\"{key}: {value}\")"
   ]
  },
  {
   "cell_type": "code",
   "execution_count": 57,
   "id": "ebb1626c-a66e-4a3c-b5d9-10310b54717a",
   "metadata": {},
   "outputs": [
    {
     "name": "stdout",
     "output_type": "stream",
     "text": [
      "name: Alice\n",
      "age: 30\n",
      "city: New York\n"
     ]
    }
   ],
   "source": [
    "# Passing keyword arguments\n",
    "print_details(name=\"Alice\", age=30, city=\"New York\")\n",
    "# Output:\n",
    "# name: Alice\n",
    "# age: 30\n",
    "# city: New York"
   ]
  },
  {
   "cell_type": "code",
   "execution_count": null,
   "id": "5989ca59-4e31-4451-a796-57e0ac74fddf",
   "metadata": {},
   "outputs": [],
   "source": [
    "# question 3  What are the different ways to define and call a function in Python?\n",
    "\n",
    "# functions can be defined and called in a various ways,each serving different uses cases.Below are the different ways to define and callfunctions along with examples"
   ]
  },
  {
   "cell_type": "code",
   "execution_count": 13,
   "id": "2b192157-7d2c-4e9f-9ce4-8129bafd2f70",
   "metadata": {},
   "outputs": [
    {
     "name": "stdout",
     "output_type": "stream",
     "text": [
      "8\n"
     ]
    }
   ],
   "source": [
    "#defination \n",
    "\n",
    "def add(a,b):\n",
    "    return a+b\n",
    "result = add(3,5)\n",
    "print(result)"
   ]
  },
  {
   "cell_type": "code",
   "execution_count": 14,
   "id": "ae0928c4-72c9-4b33-8159-5dd30f8fc918",
   "metadata": {},
   "outputs": [],
   "source": [
    "#2 lambda functions(anonymous functions):lambda functions are single- expression functions that do not require a name. They are often used for short throw away functions\n",
    "\n"
   ]
  },
  {
   "cell_type": "code",
   "execution_count": 59,
   "id": "ae6bd0a0-92bf-460b-9a05-434a5b3bec92",
   "metadata": {},
   "outputs": [
    {
     "name": "stdout",
     "output_type": "stream",
     "text": [
      "8\n"
     ]
    }
   ],
   "source": [
    "#defination\n",
    "\n",
    "add = lambda a, b: a+b\n",
    "# call\n",
    "result = add(3,5)\n",
    "print(result)"
   ]
  },
  {
   "cell_type": "code",
   "execution_count": 17,
   "id": "5ea6cdc0-dc6d-474c-9b61-b747e7c55d81",
   "metadata": {},
   "outputs": [],
   "source": [
    "# default arguments: Fuctions can have default values for some parameters. If the caller does not provide those arguments, the default values are used"
   ]
  },
  {
   "cell_type": "code",
   "execution_count": 18,
   "id": "e432de7f-ac95-43db-be94-55be6bbd6976",
   "metadata": {},
   "outputs": [],
   "source": [
    "# defination:\n",
    "\n",
    "def greet(name,greeting = \"Hello\"):\n",
    "    return f\"{greeting} , {name}!\""
   ]
  },
  {
   "cell_type": "code",
   "execution_count": 19,
   "id": "b0faea39-3c23-48cb-8455-96dc1c0aadd5",
   "metadata": {},
   "outputs": [
    {
     "name": "stdout",
     "output_type": "stream",
     "text": [
      "Hello , Alice!\n"
     ]
    }
   ],
   "source": [
    "message1 = greet(\"Alice\")\n",
    "print(message1)"
   ]
  },
  {
   "cell_type": "code",
   "execution_count": 20,
   "id": "6bf6b949-4049-4f14-ac73-ff827fee2fca",
   "metadata": {},
   "outputs": [
    {
     "name": "stdout",
     "output_type": "stream",
     "text": [
      "Hi , Bob!\n"
     ]
    }
   ],
   "source": [
    "message2 = greet(\"Bob\",\"Hi\")\n",
    "print(message2)"
   ]
  },
  {
   "cell_type": "code",
   "execution_count": 21,
   "id": "aa43f239-8cb2-4bc2-872d-ecb0b6ebe165",
   "metadata": {},
   "outputs": [],
   "source": [
    "#4  keyword arguments: Arguments can be passed to functions using the parameter names, allowing for more readable code and flexibility in argument order."
   ]
  },
  {
   "cell_type": "code",
   "execution_count": 22,
   "id": "994c3752-892b-4c4c-89a0-285b1a0822d0",
   "metadata": {},
   "outputs": [
    {
     "name": "stdout",
     "output_type": "stream",
     "text": [
      "I have a dog named Rex.\n"
     ]
    }
   ],
   "source": [
    "#defination\n",
    "\n",
    "def describe_pet(animal_type, pet_name):\n",
    "    return f\"I have a {animal_type} named {pet_name}.\"\n",
    "# call:\n",
    "description = describe_pet(animal_type = \"dog\", pet_name=\"Rex\")\n",
    "print(description)"
   ]
  },
  {
   "cell_type": "code",
   "execution_count": 23,
   "id": "2cc0c1c6-8376-4ca0-9511-06b4c251a10c",
   "metadata": {},
   "outputs": [],
   "source": [
    "# 5 variable- length arguments : python allows you to define functions that can accept a variable number of arguments using *args for positional arguments and ** kwargs for keyword arguments."
   ]
  },
  {
   "cell_type": "code",
   "execution_count": 28,
   "id": "0f939d6d-13a2-46f0-b4ff-9a7770c08a8e",
   "metadata": {},
   "outputs": [],
   "source": [
    "#defination:\n",
    "def print_numbers(*args):\n",
    "    for number in args:\n",
    "        print(number)"
   ]
  },
  {
   "cell_type": "code",
   "execution_count": 29,
   "id": "543356c1-e038-4aac-8327-c900fa3fd996",
   "metadata": {},
   "outputs": [],
   "source": [
    "def print_details(**kwargs):\n",
    "    for key, value in kwargs.items():\n",
    "        print(f\"{key}: {value}\")"
   ]
  },
  {
   "cell_type": "code",
   "execution_count": 30,
   "id": "d1bb8230-4c6d-4249-9128-3f52a7dec8e6",
   "metadata": {},
   "outputs": [
    {
     "name": "stdout",
     "output_type": "stream",
     "text": [
      "1\n",
      "2\n",
      "3\n",
      "4\n"
     ]
    }
   ],
   "source": [
    "# call\n",
    "print_numbers(1,2,3,4)"
   ]
  },
  {
   "cell_type": "code",
   "execution_count": 33,
   "id": "7d8d318e-1289-4b98-99c0-aee9b7a8fe96",
   "metadata": {},
   "outputs": [
    {
     "name": "stdout",
     "output_type": "stream",
     "text": [
      "name: Alice\n",
      "age: 30\n",
      "city: New york\n"
     ]
    }
   ],
   "source": [
    "print_details(name=\"Alice\",\n",
    "              age = 30,\n",
    "              city = \"New york\")"
   ]
  },
  {
   "cell_type": "code",
   "execution_count": 34,
   "id": "2283bf89-6c1b-4094-a887-6c2025266cef",
   "metadata": {},
   "outputs": [],
   "source": [
    "# 6 Recrusive function: A function can call itself , ich is known as recrusion . This is useful fr tasks that can be broken down ito similar sub - tasks."
   ]
  },
  {
   "cell_type": "code",
   "execution_count": 7,
   "id": "7b810f8d-b88c-46d6-a4da-00947aee5071",
   "metadata": {},
   "outputs": [],
   "source": [
    "#defination:\n",
    "def  factorial(n):\n",
    "    if n == 0:\n",
    "        return 1\n",
    "    else:\n",
    "        return  n * factorial (n-1)"
   ]
  },
  {
   "cell_type": "code",
   "execution_count": 8,
   "id": "f39662d8-ea9d-440f-91c6-e4f36c487383",
   "metadata": {},
   "outputs": [
    {
     "name": "stdout",
     "output_type": "stream",
     "text": [
      "120\n"
     ]
    }
   ],
   "source": [
    "# call \n",
    "result = factorial(5)\n",
    "print(result)"
   ]
  },
  {
   "cell_type": "code",
   "execution_count": null,
   "id": "961c5a17-384c-4101-b52d-0e2cc0909d20",
   "metadata": {},
   "outputs": [],
   "source": [
    "# question 4  What is the purpose of the `return` statement in a Python function?"
   ]
  },
  {
   "cell_type": "code",
   "execution_count": 17,
   "id": "353ce6e9-ceda-432d-a381-a987adb3a138",
   "metadata": {},
   "outputs": [
    {
     "name": "stdout",
     "output_type": "stream",
     "text": [
      "8\n"
     ]
    }
   ],
   "source": [
    "# 1.Returning a Value: The primary purpose of the return statement isto specify the value that should be output from the function when itis called. This value can then be used or stored by the caller of thefunction. If a function does not include a return statement, it willreturn None by default\n",
    "\n",
    "\n",
    "# Example of returning a value:-\n",
    "def add(a,b):\n",
    "     return(a+b)\n",
    "result =  add(3,5)\n",
    "print(result)\n",
    "\n",
    "    "
   ]
  },
  {
   "cell_type": "code",
   "execution_count": 22,
   "id": "46a1ae83-4cd1-4262-b38a-05280573d069",
   "metadata": {},
   "outputs": [
    {
     "name": "stdout",
     "output_type": "stream",
     "text": [
      "6\n"
     ]
    }
   ],
   "source": [
    "# 2.Exiting the Function: The return statement also serves as an exitpoint for the function. When a return statement is executed, thefunction terminates immediately, and control is passed back to thecaller. This means that any code after the return statement within thesame block will not be executed\n",
    "\n",
    "# Example of exiting value:-\n",
    "def find_first_even(numbers):\n",
    "    for num in numbers:\n",
    "        if num % 2 == 0:\n",
    "            return num\n",
    "    return None\n",
    "result = find_first_even([1, 3, 5, 6, 7])\n",
    "print(result) "
   ]
  },
  {
   "cell_type": "code",
   "execution_count": 23,
   "id": "e7f63da4-2456-4c1e-8721-dc681c793161",
   "metadata": {},
   "outputs": [
    {
     "name": "stdout",
     "output_type": "stream",
     "text": [
      "1 5\n"
     ]
    }
   ],
   "source": [
    "# 3.Returning Multiple Values: Python allows functions to return multiple values as a tuple. This is useful for returning multiple pieces of information from a function in a single statement\n",
    "\n",
    "\n",
    "# Example of Returning Multiple Values:-\n",
    "def get_min_max(numbers):\n",
    "     return min(numbers), max(numbers)\n",
    "minimum, maximum = get_min_max([1, 2, 3, 4, 5])\n",
    "print(minimum, maximum)"
   ]
  },
  {
   "cell_type": "code",
   "execution_count": 24,
   "id": "fd18c7cf-380e-4abe-9f2c-81599642098a",
   "metadata": {},
   "outputs": [
    {
     "name": "stdout",
     "output_type": "stream",
     "text": [
      "1\n",
      "2\n",
      "3\n",
      "4\n"
     ]
    }
   ],
   "source": [
    "# Question5:- What are iterators in Python and how do they differ from iterables?\n",
    "\n",
    "# 1.Iterables:-\n",
    " # Iterables are objects that can return an iterator, allowing you to iterate over their elements. An object is considered iterable if it implements the __iter__() method, which returns aniterator. Common examples of iterables include lists, tuples, strings, and dictionaries.\n",
    " # Key Characteristics of Iterables:\n",
    " # Can Be Iterated Over: You can use a for loop to iterate over the elements.\n",
    " # Provide an Iterator: They can produce an iterator object using the iter() function.\n",
    "# 2.Iterators:-\n",
    " # Iterators are objects that represent a stream of data. An iterator is an object that implements the __iter__() and __next__() methods. The __iter__() method returns the iterator object itself, andthe __next__() method returns the next value from the iterator. Whenthere are no more items to return, the __next__() method raises aStopIteration exception.\n",
    " # Key Characteristics of Iterators:\n",
    " # Stateful: They maintain a state to keep track of the current position during iteration.\n",
    " # One-Way Traversal: They provide one-way traversal, meaning once you retrieve an item, you can't go back.\n",
    " # # Can Be Exhausted: Once an iterator has traversed all its elements, it cannot be reset or reused\n",
    "\n",
    "    \n",
    "    \n",
    " # Iterables example :-\n",
    "my_list = [1, 2, 3, 4]\n",
    "for item in my_list:\n",
    "     print(item)"
   ]
  },
  {
   "cell_type": "code",
   "execution_count": 25,
   "id": "1df12761-b209-4d86-8bc2-c62fd6742a59",
   "metadata": {},
   "outputs": [
    {
     "name": "stdout",
     "output_type": "stream",
     "text": [
      "1\n",
      "2\n",
      "3\n",
      "4\n"
     ]
    }
   ],
   "source": [
    "# Iterators example:-\n",
    "my_list = [1, 2, 3, 4]\n",
    "my_iterator = iter(my_list)\n",
    "print(next(my_iterator)) # Output: 1\n",
    "print(next(my_iterator)) # Output: 2\n",
    "print(next(my_iterator)) # Output: 3\n",
    "print(next(my_iterator)) # Output: 4\n",
    "# print(next(my_iterator)) # Raises StopIteration\n"
   ]
  },
  {
   "cell_type": "code",
   "execution_count": 26,
   "id": "9cb390fe-dad6-480a-986b-b0fbb9cb63cd",
   "metadata": {},
   "outputs": [],
   "source": [
    "# Questio6:- Explain the concept of generators in Python and how they are defined.\n",
    "\n",
    "# Defining Generators\n",
    " # Generators can be defined in two main ways:\n",
    " # 1.Generator Functions\n",
    "# 2.Generator Expressions\n",
    "# 1.Generater Function:-A generator function is defined like a regular function, but it uses the yield keyword instead of return to produce a value.\n",
    "\n",
    " #The yield keyword allows the function to return a value and \"pause\" its execution, maintaining its state until the next value is requested.\n",
    "    \n",
    " # When yield is encountered, the function's state, including local variables and the point of execution, is saved. The next time the generator's __next__() methodis called, the function resumes execution  from the point it left off.\n",
    "\n",
    "\n",
    "# example of generater function:-\n",
    "\n",
    "def countdown(n):\n",
    "    while n > 0:\n",
    "        yield n\n",
    "        n -= 1\n"
   ]
  },
  {
   "cell_type": "code",
   "execution_count": 27,
   "id": "9022b24a-edbc-4d53-9883-8c6aae1cbbbd",
   "metadata": {},
   "outputs": [
    {
     "name": "stdout",
     "output_type": "stream",
     "text": [
      "5\n",
      "4\n",
      "3\n",
      "2\n",
      "1\n"
     ]
    }
   ],
   "source": [
    "# Using the generator function\n",
    "counter = countdown(5)\n",
    "print(next(counter))\n",
    "print(next(counter))\n",
    "print(next(counter))\n",
    "print(next(counter))\n",
    "print(next(counter)) "
   ]
  },
  {
   "cell_type": "code",
   "execution_count": 38,
   "id": "b1ae09a8-ace6-460a-81eb-388d86d912fd",
   "metadata": {},
   "outputs": [
    {
     "name": "stdout",
     "output_type": "stream",
     "text": [
      "0\n",
      "1\n",
      "4\n",
      "9\n",
      "16\n"
     ]
    }
   ],
   "source": [
    "# 2. Generator Expressions:-Generator expressions are a concise way to create generators using a syntax similar to list\n",
    " #comprehensions, but with parentheses instead of square brackets. They provide a quick way to\n",
    " # create a generator without the need for defining a full generator function.\n",
    "\n",
    "\n",
    "# example of generater function:-\n",
    "squares = (x * x for x in range(5))\n",
    "print(next(squares))\n",
    "print(next(squares))\n",
    "print(next(squares))\n",
    "print(next(squares))\n",
    "print(next(squares)) "
   ]
  },
  {
   "cell_type": "code",
   "execution_count": 39,
   "id": "fa4b9dbe-3489-42af-aea2-bd4bfc551318",
   "metadata": {},
   "outputs": [],
   "source": [
    "# question 7 What are the advantages of using generators over regular functions?\n",
    "\n",
    "# 1. Memory Efficiency:-\n",
    " # Generators are memory-efficient because they produce values on-the-fly and do not require the entire sequence to be stored in memory.\n",
    " # This is especially useful when working with  large datasets or infinite sequences, where storing all elements at once would be impractical or impossible.\n",
    "\n",
    "\n",
    "\n",
    "# example of memory of efficiency:\n",
    "def large_range():\n",
    "    for i in range(1, 1000000):\n",
    "        yield i\n",
    "gen = large_range()"
   ]
  },
  {
   "cell_type": "code",
   "execution_count": 40,
   "id": "31af3819-af73-44f8-ba13-c9294a14d273",
   "metadata": {},
   "outputs": [
    {
     "name": "stdout",
     "output_type": "stream",
     "text": [
      "1\n"
     ]
    }
   ],
   "source": [
    "# The generator only produces one number at a time, using minimal memory.\n",
    "print(next(gen))\n"
   ]
  },
  {
   "cell_type": "code",
   "execution_count": 41,
   "id": "b4f445af-c1c1-491a-b50a-f3c98f174265",
   "metadata": {},
   "outputs": [],
   "source": [
    "# 2.Lazy Evaluation:-\n",
    "# Generators implement lazy evaluation, meaning they generate values only when requested.\n",
    "#This can lead to significant performance improvements because calculations are done only when necessary and only for the required items. This can also save computational resources if only a part of the data is needed.\n",
    "# example of lazy evalution:-\n",
    "def square_numbers(n):\n",
    "    for i in range(n):\n",
    "        yield i * i\n"
   ]
  },
  {
   "cell_type": "code",
   "execution_count": 42,
   "id": "511004c3-6e70-4b7f-a7f0-4a14ba85d048",
   "metadata": {},
   "outputs": [
    {
     "name": "stdout",
     "output_type": "stream",
     "text": [
      "0\n"
     ]
    }
   ],
   "source": [
    "# Only calculates the first square\n",
    "gen = square_numbers(10)\n",
    "print(next(gen)) "
   ]
  },
  {
   "cell_type": "code",
   "execution_count": 43,
   "id": "f2af13ea-29d2-4bb6-b472-e23cfb1bb2bb",
   "metadata": {
    "tags": []
   },
   "outputs": [],
   "source": [
    "# 3.Improved Performance:-\n",
    " # By not requiring the computation of all items at once, generators can improve performance,\n",
    " # especially when the data set is large or the computation of each item is costly.\n",
    "\n",
    "# Example of Improved Performance:-\n",
    "def fibonacci():\n",
    "    a, b = 0, 1\n",
    "    while True:\n",
    "        yield a\n",
    "        a, b = b, a + b\n",
    "    \n",
    "fib = fibonacci()"
   ]
  },
  {
   "cell_type": "code",
   "execution_count": 35,
   "id": "68ab9703-c16d-42a9-97e3-7cd878f9916c",
   "metadata": {},
   "outputs": [
    {
     "name": "stdout",
     "output_type": "stream",
     "text": [
      "0\n",
      "1\n",
      "1\n",
      "2\n",
      "3\n",
      "5\n",
      "8\n",
      "13\n",
      "21\n",
      "34\n"
     ]
    }
   ],
   "source": [
    "# The next Fibonacci number is only calculated when requested.\n",
    "for i in range(10):\n",
    "    print(next(fib))\n"
   ]
  },
  {
   "cell_type": "code",
   "execution_count": 36,
   "id": "e108c8b1-1687-4521-b661-2c3f484566e5",
   "metadata": {},
   "outputs": [],
   "source": [
    "# 4.Pipeline Processing::-\n",
    " # Generators can be used to set up a series of operations that are performed on-the-fly,\n",
    " # allowing for pipeline-style data processing. This means data can be passed through multiple steps (generators) without being fully realized until needed.\n",
    "\n",
    "\n",
    "# example of pipeline processing:-\n",
    "def integers():\n",
    "    for i in range(1, 9):\n",
    "         yield i\n",
    "def squared(seq):\n",
    "    for i in seq:\n",
    "         yield i * i"
   ]
  },
  {
   "cell_type": "code",
   "execution_count": 37,
   "id": "982115b1-092f-40ee-a83f-0116118096f8",
   "metadata": {},
   "outputs": [
    {
     "name": "stdout",
     "output_type": "stream",
     "text": [
      "[1, 4, 9, 16, 25, 36, 49, 64]\n"
     ]
    }
   ],
   "source": [
    "numbers = integers()\n",
    "squares = squared(numbers)\n",
    "print(list(squares)) "
   ]
  },
  {
   "cell_type": "code",
   "execution_count": null,
   "id": "d1adcd10-dff7-4ab2-b915-7991c2a44026",
   "metadata": {},
   "outputs": [],
   "source": [
    "# Question_8:- What is a lambda function in Python and when is it typically used?\n",
    "\n",
    "# A lambda function in Python is a small, anonymous function defined using the lambda keyword. Unlike regular functions defined with def,\n",
    "\n",
    "# lambda functions are limited to a single expression. They are useful for creating small, throwaway functions that are used temporarily, typically as arguments to other functions.\n",
    "\n",
    "# Syntax of a Lambda Function\n",
    "\n",
    "# lambda arguments: expression\n",
    "\n",
    "# lambda: The keyword used to declare a lambda function.\n",
    "\n",
    "# arguments: The parameters for the lambda function (can be zero or more).\n",
    "\n",
    "# expression: A single expression that is evaluated and returned.\n",
    "\n",
    "# exemple:-\n",
    "# Regular function\n",
    "def add(x, y):\n",
    "    return x + y\n"
   ]
  },
  {
   "cell_type": "code",
   "execution_count": 44,
   "id": "1eb2fba0-8bd7-453d-857e-268c2868ddc5",
   "metadata": {},
   "outputs": [
    {
     "name": "stdout",
     "output_type": "stream",
     "text": [
      "8\n"
     ]
    }
   ],
   "source": [
    "# Equivalent lambda function\n",
    "add_lambda = lambda x, y: x + y\n",
    "print(add_lambda(3, 5))"
   ]
  },
  {
   "cell_type": "code",
   "execution_count": 47,
   "id": "b170f26f-25aa-4bee-845e-4b25822a8514",
   "metadata": {},
   "outputs": [
    {
     "name": "stdout",
     "output_type": "stream",
     "text": [
      "[1, 4, 9, 16]\n"
     ]
    }
   ],
   "source": [
    "# When Lambda Functions Are Typically Used:-\n",
    "\n",
    "# 1.As Arguments to Higher-Order Functions:\n",
    "\n",
    "# Lambda functions are commonly used as arguments to functions that take other functions as input, such as map(), filter(), and sorted().\n",
    "\n",
    "# using map function:-\n",
    "\n",
    "numbers = [1, 2, 3, 4]\n",
    "squares = map(lambda x: x * x, numbers)\n",
    "print(list(squares))"
   ]
  },
  {
   "cell_type": "code",
   "execution_count": 48,
   "id": "799b266a-a693-45b9-9be4-09750e7dc421",
   "metadata": {},
   "outputs": [
    {
     "name": "stdout",
     "output_type": "stream",
     "text": [
      "[2, 4]\n"
     ]
    }
   ],
   "source": [
    "# using filter() function:-\n",
    "numbers = [1, 2, 3, 4, 5]\n",
    "even_numbers = filter(lambda x: x % 2 == 0, numbers)\n",
    "print(list(even_numbers))"
   ]
  },
  {
   "cell_type": "code",
   "execution_count": 49,
   "id": "d666a103-4d19-480a-82ad-e1a5a63d76bb",
   "metadata": {},
   "outputs": [
    {
     "name": "stdout",
     "output_type": "stream",
     "text": [
      "[(3, 1), (1, 2), (5, 3)]\n"
     ]
    }
   ],
   "source": [
    "# using sorted function():-\n",
    "points = [(1, 2), (3, 1), (5, 3)]\n",
    "sorted_points = sorted(points, key=lambda point: point[1])\n",
    "print(sorted_points) "
   ]
  },
  {
   "cell_type": "code",
   "execution_count": 50,
   "id": "94af8558-357d-4267-81a1-c9d03e2c3efb",
   "metadata": {},
   "outputs": [],
   "source": [
    "# Question9:- Explain the purpose and usage of the `map()` function in Python?\n",
    "\n",
    "# The map() function in Python is a built-in function used to apply a given function to each item of an iterable (like a list, tuple, or set) and return an iterator that produces the results.\n",
    "\n",
    " #It is often used for transforming or processing data in a concise and functional way.\n",
    "    \n",
    "#Syntax: map(function, iterable, ...)\n",
    " # function: A function that will be applied to each item of the iterable. This function can be a named function, a lambda function, or any callable object.\n",
    "    \n",
    " # iterable: An iterable (e.g., a list, tuple, or set) whose items will be processed by the function.\n",
    "\n",
    " # Additional iterables (optional): map() can accept more than one iterable. In this case, the\n",
    "    \n",
    " # function must take as many arguments as there are iterables.\n",
    "\n",
    "#Return Value:-\n",
    "\n",
    " # map() returns a map object, which is an iterator. To get the results as a list or another collection type, you need to convert it explicitly\n",
    "    \n",
    "    \n",
    "#Example;-\n",
    "# Define a function that will be applied\n",
    "def square(x):\n",
    "    return x * x"
   ]
  },
  {
   "cell_type": "code",
   "execution_count": 51,
   "id": "3032b35f-1100-46aa-acdd-a4daf4884615",
   "metadata": {},
   "outputs": [],
   "source": [
    "# List of numbers\n",
    "numbers = [1, 2, 3, 4, 5]"
   ]
  },
  {
   "cell_type": "code",
   "execution_count": 52,
   "id": "4f98591f-d661-4528-9810-9b406d0d4efb",
   "metadata": {},
   "outputs": [],
   "source": [
    "# Use map() to apply the square function to each number\n",
    "squared_numbers = map(square, numbers)"
   ]
  },
  {
   "cell_type": "code",
   "execution_count": 53,
   "id": "3610560f-fcd9-4a50-9bb6-3157b0161464",
   "metadata": {},
   "outputs": [
    {
     "name": "stdout",
     "output_type": "stream",
     "text": [
      "[1, 4, 9, 16, 25]\n"
     ]
    }
   ],
   "source": [
    "# Convert the map object to a list and print it\n",
    "print(list(squared_numbers))"
   ]
  },
  {
   "cell_type": "code",
   "execution_count": 54,
   "id": "10b7382c-c2ac-4cfd-aa9e-c7547952aa1b",
   "metadata": {},
   "outputs": [],
   "source": [
    "# example :-using lambda function\n",
    "numbers = [1, 2, 3, 4, 5]"
   ]
  },
  {
   "cell_type": "code",
   "execution_count": 55,
   "id": "2478c50f-4963-4787-aa84-5b4ae7456cb2",
   "metadata": {},
   "outputs": [
    {
     "name": "stdout",
     "output_type": "stream",
     "text": [
      "[1, 4, 9, 16, 25]\n"
     ]
    }
   ],
   "source": [
    "# Use map() with a lambda function to square each number\n",
    "squared_numbers = map(lambda x: x * x, numbers)\n",
    "print(list(squared_numbers))"
   ]
  },
  {
   "cell_type": "code",
   "execution_count": 56,
   "id": "9fbdf78e-b41a-41b5-b193-3a5e957913d4",
   "metadata": {},
   "outputs": [],
   "source": [
    "# example map using multile etirable:-\n",
    "# Define a function that takes two arguments\n",
    "def add(x, y):\n",
    "     return x + y"
   ]
  },
  {
   "cell_type": "code",
   "execution_count": 57,
   "id": "5b759d77-45b1-400a-a4f2-3706d92262b0",
   "metadata": {},
   "outputs": [
    {
     "name": "stdout",
     "output_type": "stream",
     "text": [
      "[5, 7, 9]\n"
     ]
    }
   ],
   "source": [
    "# Two lists of numbers\n",
    "list1 = [1, 2, 3]\n",
    "list2 = [4, 5, 6]\n",
    "# Use map() with two iterables\n",
    "result = map(add, list1, list2)\n",
    "print(list(result))"
   ]
  },
  {
   "cell_type": "code",
   "execution_count": null,
   "id": "2c6772c9-280e-4c5f-8f62-1b6108156eb1",
   "metadata": {},
   "outputs": [],
   "source": [
    "# Question 10:- What is the difference between `map()`, `reduce()`, and `filter()` functions in Python?\n",
    "\n",
    "# 1.map():-\n",
    " # Purpose: Applies a function to each item in an iterable (like a list or tuple) and returns an iterator that produces the results.\n",
    "    \n",
    "    \n",
    " # Syntax: map(function, iterable, ...)\n",
    " # function: The function to apply to each item.\n",
    " # iterable: The iterable whose items will be processed.\n",
    " # Returns: An iterator that yields the results of applying the function to each item.   "
   ]
  },
  {
   "cell_type": "code",
   "execution_count": 58,
   "id": "d83a6fdc-8996-4bce-9967-f82b8ef2c82a",
   "metadata": {},
   "outputs": [
    {
     "name": "stdout",
     "output_type": "stream",
     "text": [
      "[1, 4, 9, 16]\n"
     ]
    }
   ],
   "source": [
    "# Example:-\n",
    "numbers = [1, 2, 3, 4]\n",
    "squared_numbers = map(lambda x: x * x, numbers)\n",
    "print(list(squared_numbers))"
   ]
  },
  {
   "cell_type": "code",
   "execution_count": 59,
   "id": "3348e5b0-9490-4493-b79e-2c8c9c3a6764",
   "metadata": {},
   "outputs": [
    {
     "name": "stdout",
     "output_type": "stream",
     "text": [
      "24\n"
     ]
    }
   ],
   "source": [
    "# 2.reduce() :-\n",
    " # Purpose: Applies a function cumulatively to the items of an iterable, reducing the iterable to a single value.\n",
    "    \n",
    " # Syntax: reduce(function, iterable[, initializer])\n",
    "\n",
    " # function: A function that takes two arguments and returns a single value.\n",
    "    \n",
    " # iterable: The iterable whose items are processed.\n",
    "\n",
    " # initializer (optional): A starting value that is used as the initial value for the reduction.\n",
    "    \n",
    " # Returns: The result of the cumulative function application\n",
    "\n",
    "# Exanple:-\n",
    "from functools import reduce\n",
    "numbers = [1, 2, 3, 4]\n",
    "product = reduce(lambda x, y: x * y, numbers)\n",
    "print(product) "
   ]
  },
  {
   "cell_type": "code",
   "execution_count": 60,
   "id": "396e405a-2078-4655-a31b-1a9fcb877236",
   "metadata": {},
   "outputs": [
    {
     "name": "stdout",
     "output_type": "stream",
     "text": [
      "[2, 4]\n"
     ]
    }
   ],
   "source": [
    "# 3.filter():-\n",
    " # Purpose: Filters items from an iterable based on a function that returns True or False.\n",
    "    \n",
    " # Syntax: filter(function, iterable)\n",
    "\n",
    " # function: A function that returns True or False for each item in the iterable.\n",
    "    \n",
    " # iterable: The iterable to be filtered.\n",
    "\n",
    "# Example:-\n",
    "numbers = [1, 2, 3, 4, 5]\n",
    "even_numbers = filter(lambda x: x % 2 == 0, numbers)\n",
    "print(list(even_numbers)) "
   ]
  },
  {
   "cell_type": "code",
   "execution_count": null,
   "id": "e4d9e4ee-a26c-4035-b456-c09ddc741d2e",
   "metadata": {},
   "outputs": [],
   "source": [
    "### practical question "
   ]
  },
  {
   "cell_type": "code",
   "execution_count": 62,
   "id": "60fe2508-96a7-46b3-aa5b-d89c910a99f7",
   "metadata": {},
   "outputs": [],
   "source": [
    "# Question_1:- Write a Python function that takes a list of numbers as input and returns the sum of all even numbers in the list.\n",
    "\n",
    "\n",
    "def sum_of_even_numbers(numbers):\n",
    "    sum=0\n",
    "    for i in numbers:\n",
    "        if i%2==0:\n",
    "            sum=sum+i\n",
    "    return sum\n"
   ]
  },
  {
   "cell_type": "code",
   "execution_count": 63,
   "id": "46006815-b0c8-4b24-a33f-67f172480a1f",
   "metadata": {},
   "outputs": [
    {
     "name": "stdout",
     "output_type": "stream",
     "text": [
      "42\n"
     ]
    }
   ],
   "source": [
    "# Example usage\n",
    "numbers = [47, 11, 42, 13]\n",
    "print(sum_of_even_numbers(numbers))"
   ]
  },
  {
   "cell_type": "code",
   "execution_count": 67,
   "id": "6ae06d8f-8e4f-4729-a568-925582a0ab12",
   "metadata": {},
   "outputs": [
    {
     "name": "stdout",
     "output_type": "stream",
     "text": [
      "alleb\n"
     ]
    }
   ],
   "source": [
    "# Question_2:- Create a Python function that accepts a string and returns the reverse of that string.\n",
    "def reverse_string(string):\n",
    "    return string[::-1]\n",
    "print(reverse_string(\"bella\"))"
   ]
  },
  {
   "cell_type": "code",
   "execution_count": 68,
   "id": "7d36dc68-b0df-4e3a-9bca-42b0665fc424",
   "metadata": {},
   "outputs": [],
   "source": [
    "# Question_3:- Implement a Python function that takes a list of integers and returns a new list containing the squares of each number.\n",
    "def square_of_list(list1):\n",
    "    new_list = []\n",
    "    for i in list1:\n",
    "        new_list.append(i * i)\n",
    "    return new_list\n"
   ]
  },
  {
   "cell_type": "code",
   "execution_count": 69,
   "id": "9f860868-3321-4e98-ac48-bbf86ef27e51",
   "metadata": {},
   "outputs": [
    {
     "name": "stdout",
     "output_type": "stream",
     "text": [
      "[1, 4, 9, 16, 25]\n"
     ]
    }
   ],
   "source": [
    "# Define the list before calling the function\n",
    "list1 = [1, 2, 3, 4, 5]\n",
    "print(square_of_list(list1))\n"
   ]
  },
  {
   "cell_type": "code",
   "execution_count": 10,
   "id": "f8b29274-09fc-4dd4-b122-d2bd856d116e",
   "metadata": {},
   "outputs": [],
   "source": [
    "# Question4:- Write a Python function that checks if a given number is prime or not from 1 to 200?\n",
    "\n",
    "\n",
    "def prime_number():\n",
    "    list1 = []\n",
    "\n",
    "    for i in range(2, 200): # Start from 2, the smallest prime number\n",
    "        is_prime = True\n",
    "        for j in range(2, int(i**0.5) + 1): # Check for factors up to sqrt(i)      \n",
    "            if i % j == 0:\n",
    "                is_prime = False\n",
    "                break\n",
    "        if is_prime:\n",
    "            list1.append(i)\n",
    "\n",
    "    return list1"
   ]
  },
  {
   "cell_type": "code",
   "execution_count": 11,
   "id": "a1a586b5-c4b9-42b6-a47a-91d3a787a790",
   "metadata": {},
   "outputs": [
    {
     "name": "stdout",
     "output_type": "stream",
     "text": [
      "[2, 3, 5, 7, 11, 13, 17, 19, 23, 29, 31, 37, 41, 43, 47, 53, 59, 61, 67, 71, 73, 79, 83, 89, 97, 101, 103, 107, 109, 113, 127, 131, 137, 139, 149, 151, 157, 163, 167, 173, 179, 181, 191, 193, 197, 199]\n"
     ]
    }
   ],
   "source": [
    "# Call the function and print the result\n",
    "print(prime_number())"
   ]
  },
  {
   "cell_type": "code",
   "execution_count": 4,
   "id": "67f1da65-a336-4654-b34e-f88d692a6521",
   "metadata": {},
   "outputs": [],
   "source": [
    "# Question_5:-Create an iterator class in Python that generates the Fibonacci sequence up to a specified number of terms.\n",
    "class FibonacciIterator:\n",
    "    def __init__(self, n):\n",
    "        self.n = n # Number of terms to generate\n",
    "        self.a, self.b = 0, 1 # Initial values for Fibonacci sequence\n",
    "        self.count = 0 # Counter to keep track of the number of terms generated\n",
    "    def __iter__(self):\n",
    "        return self # The iterator object itself\n",
    "    def __next__(self):\n",
    "        if self.count >= self.n:\n",
    "            raise StopIteration # Stop iteration when we reach the specified number of terms\n",
    "        else:\n",
    "            result = self.a # Return the current term\n",
    "            self.a, self.b = self.b, self.a + self.b # Update the values for the next term\n",
    "            self.count += 1\n",
    "            return result"
   ]
  },
  {
   "cell_type": "code",
   "execution_count": 6,
   "id": "823725ac-4f44-4565-a8fe-7c75af0c182f",
   "metadata": {},
   "outputs": [
    {
     "name": "stdout",
     "output_type": "stream",
     "text": [
      "0\n",
      "1\n",
      "1\n",
      "2\n",
      "3\n",
      "5\n",
      "8\n",
      "13\n",
      "21\n",
      "34\n"
     ]
    }
   ],
   "source": [
    "# Example usage\n",
    "fib_iter = FibonacciIterator(10) # Create an iterator for the first 10 terms\n",
    "for term in fib_iter:\n",
    "    print(term)"
   ]
  },
  {
   "cell_type": "code",
   "execution_count": 3,
   "id": "cd5b92d5-5287-416b-8f5d-ae3c134416a5",
   "metadata": {},
   "outputs": [
    {
     "name": "stdout",
     "output_type": "stream",
     "text": [
      "1\n",
      "2\n",
      "4\n",
      "8\n",
      "16\n",
      "32\n"
     ]
    }
   ],
   "source": [
    "# Question_6:- Write a generator function in Python that yields the powers of 2 up to a given exponent.\n",
    "\n",
    "def powers_of_two(exponent):\n",
    "    for i in range(exponent + 1):\n",
    "        yield 2 ** i\n",
    "# Example usage\n",
    "for power in powers_of_two(5):\n",
    "    print(power)\n"
   ]
  },
  {
   "cell_type": "code",
   "execution_count": 1,
   "id": "7d8418ab-f165-4932-9603-babb4841cc45",
   "metadata": {},
   "outputs": [
    {
     "name": "stdout",
     "output_type": "stream",
     "text": [
      "This is my first line\n",
      "This is my second line\n",
      "This is my third line\n",
      "This is my fourth line\n"
     ]
    }
   ],
   "source": [
    "# Question_7:- Implement a generator function that reads a file line by line and yields each line as a string.\n",
    "\n",
    "file = open(\"file.txt\", \"w\")\n",
    "file.write(\"This is my first line\\n\")\n",
    "file.write(\"This is my second line\\n\")\n",
    "file.write(\"This is my third line\\n\")\n",
    "file.write(\"This is my fourth line\\n\")\n",
    "file.close()\n",
    "\n",
    "\n",
    "def read_file_line_by_line(file_path):\n",
    "    with open(file_path, 'r') as file:\n",
    "        for line in file:\n",
    "            yield line.rstrip('\\n')\n",
    "\n",
    "file_path = \"file.txt\"\n",
    "for line in read_file_line_by_line(file_path):\n",
    "    print(line)\n"
   ]
  },
  {
   "cell_type": "code",
   "execution_count": 2,
   "id": "0b0d85b4-2bfa-483e-97b5-52d3e8b8240c",
   "metadata": {},
   "outputs": [],
   "source": [
    "# Question_8:- Use a lambda function in Python to sort a list of tuples based on the second element of each tuple.\n",
    "\n",
    "# List of tuples\n",
    "tuples_list = [(1, 'banana'), (2, 'apple'), (3, 'cherry')]\n"
   ]
  },
  {
   "cell_type": "code",
   "execution_count": 3,
   "id": "96921e27-79a8-4b07-9d39-70ca9a4a3ba6",
   "metadata": {},
   "outputs": [
    {
     "name": "stdout",
     "output_type": "stream",
     "text": [
      "[(2, 'apple'), (1, 'banana'), (3, 'cherry')]\n"
     ]
    }
   ],
   "source": [
    "# Sorting using sorted() with a lambda function\n",
    "sorted_list = sorted(tuples_list, key=lambda x: x[1])\n",
    "print(sorted_list)\n"
   ]
  },
  {
   "cell_type": "code",
   "execution_count": 4,
   "id": "1c790e56-2189-48c0-80aa-976e198249ed",
   "metadata": {},
   "outputs": [
    {
     "name": "stdout",
     "output_type": "stream",
     "text": [
      "Celsius temperatures: [0, 10, 20, 30, 40, 100]\n",
      "Fahrenheit temperatures: [32.0, 50.0, 68.0, 86.0, 104.0, 212.0]\n"
     ]
    }
   ],
   "source": [
    "# Question:-9:-Write a Python program that uses `map()` to convert a list of temperatures from Celsius to Fahrenheit.\n",
    "\n",
    "# List of temperatures in Celsius\n",
    "\n",
    "celsius_temperatures = [0, 10, 20, 30, 40, 100]\n",
    "\n",
    "# Convert Celsius to Fahrenheit using map() and a lambda function\n",
    "\n",
    "fahrenheit_temperatures = list(map(lambda c: c * 9/5 + 32,\n",
    "celsius_temperatures))\n",
    "\n",
    "# Print the converted temperatures\n",
    "print(\"Celsius temperatures:\", celsius_temperatures)\n",
    "print(\"Fahrenheit temperatures:\", fahrenheit_temperatures)"
   ]
  },
  {
   "cell_type": "code",
   "execution_count": 5,
   "id": "eed5c72c-210c-42cd-8565-834518838a77",
   "metadata": {},
   "outputs": [],
   "source": [
    "# Question_10:- Create a Python program that uses `filter()` to remove all the vowels from a given string.\n",
    "def remove_vowels(input_string):\n",
    "    vowels = 'aeiouAEIOU'\n",
    "    return ''.join(filter(lambda char: char not in vowels, input_string))"
   ]
  },
  {
   "cell_type": "code",
   "execution_count": 6,
   "id": "a82d5e7c-a517-4ae9-a854-c5afb162a5d2",
   "metadata": {},
   "outputs": [
    {
     "name": "stdout",
     "output_type": "stream",
     "text": [
      "Original string: Hello, World! This is a test string.\n",
      "String without vowels: Hll, Wrld! Ths s  tst strng.\n"
     ]
    }
   ],
   "source": [
    "# Example usage\n",
    "\n",
    "input_string = \"Hello, World! This is a test string.\"\n",
    "result_string = remove_vowels(input_string)\n",
    "print(\"Original string:\", input_string)\n",
    "print(\"String without vowels:\", result_string)\n",
    "\n"
   ]
  },
  {
   "cell_type": "code",
   "execution_count": 7,
   "id": "3fce13c5-9af4-487c-ac59-3a93fbfdd3e2",
   "metadata": {},
   "outputs": [],
   "source": [
    "# Question:-11:- Imagine an accounting routine used in a book shop. It works on a list with sublists, which look like this:\n",
    "\n",
    "#Write a Python program, which returns a list with 2-tuples. Each tuple consists of the order number and the\n",
    "\n",
    "#product of the price per item and the quantity. The product should be increased by 10,- € if the value of the order is smaller than 100,00 €.\n",
    "\n",
    "#Write a Python program using lambda and map.\n",
    "\n",
    "# List of orders, each order is a sublist in the format [order_number, price_per_item, quantity]"
   ]
  },
  {
   "cell_type": "code",
   "execution_count": 8,
   "id": "fd04d87c-86c8-4c83-82d7-c2e1f9f0f3b2",
   "metadata": {},
   "outputs": [],
   "source": [
    "orders = [\n",
    " [34587, 4.50, 10], # Example: Order number 34587, price 4.50 per item, quantity 10\n",
    " [98762, 8.95, 20], # Example: Order number 98762, price 8.95 per item, quantity 20\n",
    " [77226, 13.00, 5], # Example: Order number 77226, price 13.00 per item, quantity 5\n",
    " [88112, 1.50, 30] # Example: Order number 88112, price 1.50 per item, quantity30\n",
    "]"
   ]
  },
  {
   "cell_type": "code",
   "execution_count": 9,
   "id": "f40ffb97-29a5-4bf6-9ad2-753ddfef524a",
   "metadata": {},
   "outputs": [],
   "source": [
    "# Lambda function to compute the total cost of an order\n",
    "compute_cost = lambda order: (order[0], order[1] * order[2] if\n",
    "order[1] * order[2] >= 100 else order[1] * order[2] + 10)"
   ]
  },
  {
   "cell_type": "code",
   "execution_count": 10,
   "id": "741d506c-a566-4624-bee2-ca7ab02063fa",
   "metadata": {},
   "outputs": [],
   "source": [
    "# Using map() to apply the lambda function to each order\n",
    "order_totals = list(map(compute_cost, orders))"
   ]
  },
  {
   "cell_type": "code",
   "execution_count": 11,
   "id": "7974df6d-0767-4eb8-a9de-f32d2161a04c",
   "metadata": {},
   "outputs": [
    {
     "name": "stdout",
     "output_type": "stream",
     "text": [
      "[(34587, 55.0), (98762, 179.0), (77226, 75.0), (88112, 55.0)]\n"
     ]
    }
   ],
   "source": [
    "# Output the result\n",
    "print(order_totals)"
   ]
  },
  {
   "cell_type": "code",
   "execution_count": null,
   "id": "9a407dff-5066-48d8-8f4c-9fa8b4eed271",
   "metadata": {},
   "outputs": [],
   "source": []
  },
  {
   "cell_type": "code",
   "execution_count": null,
   "id": "2b2f9f57",
   "metadata": {},
   "outputs": [],
   "source": []
  }
 ],
 "metadata": {
  "kernelspec": {
   "display_name": "Python 3 (ipykernel)",
   "language": "python",
   "name": "python3"
  },
  "language_info": {
   "codemirror_mode": {
    "name": "ipython",
    "version": 3
   },
   "file_extension": ".py",
   "mimetype": "text/x-python",
   "name": "python",
   "nbconvert_exporter": "python",
   "pygments_lexer": "ipython3",
   "version": "3.10.9"
  }
 },
 "nbformat": 4,
 "nbformat_minor": 5
}
